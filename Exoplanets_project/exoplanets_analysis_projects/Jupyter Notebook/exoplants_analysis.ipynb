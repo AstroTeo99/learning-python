{
 "cells": [
  {
   "cell_type": "markdown",
   "id": "3e6340c0-ee66-414d-a102-1d1427c15f77",
   "metadata": {},
   "source": [
    "Installazione delle Librerie Necessarie"
   ]
  },
  {
   "cell_type": "code",
   "execution_count": 3,
   "id": "2732faf2-437a-4bca-a8da-52148bd51b82",
   "metadata": {},
   "outputs": [
    {
     "name": "stdout",
     "output_type": "stream",
     "text": [
      "Requirement already satisfied: astroquery in c:\\users\\matte\\appdata\\local\\programs\\python\\python312\\lib\\site-packages (0.4.9.post1)\n",
      "Requirement already satisfied: pandas in c:\\users\\matte\\appdata\\local\\programs\\python\\python312\\lib\\site-packages (2.2.3)\n",
      "Requirement already satisfied: matplotlib in c:\\users\\matte\\appdata\\local\\programs\\python\\python312\\lib\\site-packages (3.9.2)\n",
      "Collecting seaborn\n",
      "  Downloading seaborn-0.13.2-py3-none-any.whl.metadata (5.4 kB)\n",
      "Requirement already satisfied: ipython-sql in c:\\users\\matte\\appdata\\local\\programs\\python\\python312\\lib\\site-packages (0.5.0)\n",
      "Requirement already satisfied: sqlalchemy in c:\\users\\matte\\appdata\\local\\programs\\python\\python312\\lib\\site-packages (2.0.37)\n",
      "Requirement already satisfied: numpy>=1.20 in c:\\users\\matte\\appdata\\local\\programs\\python\\python312\\lib\\site-packages (from astroquery) (2.2.2)\n",
      "Requirement already satisfied: astropy>=5.0 in c:\\users\\matte\\appdata\\local\\programs\\python\\python312\\lib\\site-packages (from astroquery) (7.0.0)\n",
      "Requirement already satisfied: requests>=2.19 in c:\\users\\matte\\appdata\\local\\programs\\python\\python312\\lib\\site-packages (from astroquery) (2.32.3)\n",
      "Requirement already satisfied: beautifulsoup4>=4.8 in c:\\users\\matte\\appdata\\local\\programs\\python\\python312\\lib\\site-packages (from astroquery) (4.12.3)\n",
      "Requirement already satisfied: html5lib>=0.999 in c:\\users\\matte\\appdata\\local\\programs\\python\\python312\\lib\\site-packages (from astroquery) (1.1)\n",
      "Requirement already satisfied: keyring>=15.0 in c:\\users\\matte\\appdata\\local\\programs\\python\\python312\\lib\\site-packages (from astroquery) (25.6.0)\n",
      "Requirement already satisfied: pyvo>=1.5 in c:\\users\\matte\\appdata\\local\\programs\\python\\python312\\lib\\site-packages (from astroquery) (1.6)\n",
      "Requirement already satisfied: python-dateutil>=2.8.2 in c:\\users\\matte\\appdata\\local\\programs\\python\\python312\\lib\\site-packages (from pandas) (2.9.0.post0)\n",
      "Requirement already satisfied: pytz>=2020.1 in c:\\users\\matte\\appdata\\local\\programs\\python\\python312\\lib\\site-packages (from pandas) (2024.2)\n",
      "Requirement already satisfied: tzdata>=2022.7 in c:\\users\\matte\\appdata\\local\\programs\\python\\python312\\lib\\site-packages (from pandas) (2024.2)\n",
      "Requirement already satisfied: contourpy>=1.0.1 in c:\\users\\matte\\appdata\\local\\programs\\python\\python312\\lib\\site-packages (from matplotlib) (1.2.1)\n",
      "Requirement already satisfied: cycler>=0.10 in c:\\users\\matte\\appdata\\local\\programs\\python\\python312\\lib\\site-packages (from matplotlib) (0.12.1)\n",
      "Requirement already satisfied: fonttools>=4.22.0 in c:\\users\\matte\\appdata\\local\\programs\\python\\python312\\lib\\site-packages (from matplotlib) (4.53.1)\n",
      "Requirement already satisfied: kiwisolver>=1.3.1 in c:\\users\\matte\\appdata\\local\\programs\\python\\python312\\lib\\site-packages (from matplotlib) (1.4.5)\n",
      "Requirement already satisfied: packaging>=20.0 in c:\\users\\matte\\appdata\\local\\programs\\python\\python312\\lib\\site-packages (from matplotlib) (24.1)\n",
      "Requirement already satisfied: pillow>=8 in c:\\users\\matte\\appdata\\local\\programs\\python\\python312\\lib\\site-packages (from matplotlib) (10.4.0)\n",
      "Requirement already satisfied: pyparsing>=2.3.1 in c:\\users\\matte\\appdata\\local\\programs\\python\\python312\\lib\\site-packages (from matplotlib) (2.4.7)\n",
      "Requirement already satisfied: prettytable in c:\\users\\matte\\appdata\\local\\programs\\python\\python312\\lib\\site-packages (from ipython-sql) (3.13.0)\n",
      "Requirement already satisfied: ipython in c:\\users\\matte\\appdata\\local\\programs\\python\\python312\\lib\\site-packages (from ipython-sql) (8.31.0)\n",
      "Requirement already satisfied: sqlparse in c:\\users\\matte\\appdata\\local\\programs\\python\\python312\\lib\\site-packages (from ipython-sql) (0.5.3)\n",
      "Requirement already satisfied: six in c:\\users\\matte\\appdata\\local\\programs\\python\\python312\\lib\\site-packages (from ipython-sql) (1.16.0)\n",
      "Requirement already satisfied: ipython-genutils in c:\\users\\matte\\appdata\\local\\programs\\python\\python312\\lib\\site-packages (from ipython-sql) (0.2.0)\n",
      "Requirement already satisfied: greenlet!=0.4.17 in c:\\users\\matte\\appdata\\local\\programs\\python\\python312\\lib\\site-packages (from sqlalchemy) (3.1.1)\n",
      "Requirement already satisfied: typing-extensions>=4.6.0 in c:\\users\\matte\\appdata\\local\\programs\\python\\python312\\lib\\site-packages (from sqlalchemy) (4.12.2)\n",
      "Requirement already satisfied: pyerfa>=2.0.1.1 in c:\\users\\matte\\appdata\\local\\programs\\python\\python312\\lib\\site-packages (from astropy>=5.0->astroquery) (2.0.1.5)\n",
      "Requirement already satisfied: astropy-iers-data>=0.2024.10.28.0.34.7 in c:\\users\\matte\\appdata\\local\\programs\\python\\python312\\lib\\site-packages (from astropy>=5.0->astroquery) (0.2025.1.20.0.32.27)\n",
      "Requirement already satisfied: PyYAML>=6.0.0 in c:\\users\\matte\\appdata\\local\\programs\\python\\python312\\lib\\site-packages (from astropy>=5.0->astroquery) (6.0.2)\n",
      "Requirement already satisfied: soupsieve>1.2 in c:\\users\\matte\\appdata\\local\\programs\\python\\python312\\lib\\site-packages (from beautifulsoup4>=4.8->astroquery) (2.6)\n",
      "Requirement already satisfied: webencodings in c:\\users\\matte\\appdata\\local\\programs\\python\\python312\\lib\\site-packages (from html5lib>=0.999->astroquery) (0.5.1)\n",
      "Requirement already satisfied: pywin32-ctypes>=0.2.0 in c:\\users\\matte\\appdata\\local\\programs\\python\\python312\\lib\\site-packages (from keyring>=15.0->astroquery) (0.2.3)\n",
      "Requirement already satisfied: jaraco.classes in c:\\users\\matte\\appdata\\local\\programs\\python\\python312\\lib\\site-packages (from keyring>=15.0->astroquery) (3.4.0)\n",
      "Requirement already satisfied: jaraco.functools in c:\\users\\matte\\appdata\\local\\programs\\python\\python312\\lib\\site-packages (from keyring>=15.0->astroquery) (4.1.0)\n",
      "Requirement already satisfied: jaraco.context in c:\\users\\matte\\appdata\\local\\programs\\python\\python312\\lib\\site-packages (from keyring>=15.0->astroquery) (6.0.1)\n",
      "Requirement already satisfied: charset-normalizer<4,>=2 in c:\\users\\matte\\appdata\\local\\programs\\python\\python312\\lib\\site-packages (from requests>=2.19->astroquery) (3.4.0)\n",
      "Requirement already satisfied: idna<4,>=2.5 in c:\\users\\matte\\appdata\\local\\programs\\python\\python312\\lib\\site-packages (from requests>=2.19->astroquery) (3.10)\n",
      "Requirement already satisfied: urllib3<3,>=1.21.1 in c:\\users\\matte\\appdata\\local\\programs\\python\\python312\\lib\\site-packages (from requests>=2.19->astroquery) (2.2.3)\n",
      "Requirement already satisfied: certifi>=2017.4.17 in c:\\users\\matte\\appdata\\local\\programs\\python\\python312\\lib\\site-packages (from requests>=2.19->astroquery) (2024.8.30)\n",
      "Requirement already satisfied: colorama in c:\\users\\matte\\appdata\\local\\programs\\python\\python312\\lib\\site-packages (from ipython->ipython-sql) (0.4.6)\n",
      "Requirement already satisfied: decorator in c:\\users\\matte\\appdata\\local\\programs\\python\\python312\\lib\\site-packages (from ipython->ipython-sql) (5.1.1)\n",
      "Requirement already satisfied: jedi>=0.16 in c:\\users\\matte\\appdata\\local\\programs\\python\\python312\\lib\\site-packages (from ipython->ipython-sql) (0.19.2)\n",
      "Requirement already satisfied: matplotlib-inline in c:\\users\\matte\\appdata\\local\\programs\\python\\python312\\lib\\site-packages (from ipython->ipython-sql) (0.1.7)\n",
      "Requirement already satisfied: prompt_toolkit<3.1.0,>=3.0.41 in c:\\users\\matte\\appdata\\local\\programs\\python\\python312\\lib\\site-packages (from ipython->ipython-sql) (3.0.50)\n",
      "Requirement already satisfied: pygments>=2.4.0 in c:\\users\\matte\\appdata\\local\\programs\\python\\python312\\lib\\site-packages (from ipython->ipython-sql) (2.19.1)\n",
      "Requirement already satisfied: stack_data in c:\\users\\matte\\appdata\\local\\programs\\python\\python312\\lib\\site-packages (from ipython->ipython-sql) (0.6.3)\n",
      "Requirement already satisfied: traitlets>=5.13.0 in c:\\users\\matte\\appdata\\local\\programs\\python\\python312\\lib\\site-packages (from ipython->ipython-sql) (5.14.3)\n",
      "Requirement already satisfied: wcwidth in c:\\users\\matte\\appdata\\local\\programs\\python\\python312\\lib\\site-packages (from prettytable->ipython-sql) (0.2.13)\n",
      "Requirement already satisfied: parso<0.9.0,>=0.8.4 in c:\\users\\matte\\appdata\\local\\programs\\python\\python312\\lib\\site-packages (from jedi>=0.16->ipython->ipython-sql) (0.8.4)\n",
      "Requirement already satisfied: more-itertools in c:\\users\\matte\\appdata\\local\\programs\\python\\python312\\lib\\site-packages (from jaraco.classes->keyring>=15.0->astroquery) (10.5.0)\n",
      "Requirement already satisfied: executing>=1.2.0 in c:\\users\\matte\\appdata\\local\\programs\\python\\python312\\lib\\site-packages (from stack_data->ipython->ipython-sql) (2.2.0)\n",
      "Requirement already satisfied: asttokens>=2.1.0 in c:\\users\\matte\\appdata\\local\\programs\\python\\python312\\lib\\site-packages (from stack_data->ipython->ipython-sql) (3.0.0)\n",
      "Requirement already satisfied: pure-eval in c:\\users\\matte\\appdata\\local\\programs\\python\\python312\\lib\\site-packages (from stack_data->ipython->ipython-sql) (0.2.3)\n",
      "Downloading seaborn-0.13.2-py3-none-any.whl (294 kB)\n",
      "Installing collected packages: seaborn\n",
      "Successfully installed seaborn-0.13.2\n",
      "Note: you may need to restart the kernel to use updated packages.\n"
     ]
    }
   ],
   "source": [
    "pip install astroquery pandas matplotlib seaborn ipython-sql sqlalchemy"
   ]
  },
  {
   "cell_type": "code",
   "execution_count": 4,
   "id": "bf1ad984-0897-41b2-b7f1-144af31c1909",
   "metadata": {},
   "outputs": [],
   "source": [
    "from astroquery.nasa_exoplanet_archive import NasaExoplanetArchive\n",
    "import pandas as pd\n",
    "import matplotlib.pyplot as plt\n",
    "import seaborn as sns\n",
    "import sqlite3\n",
    "\n",
    "# Carica l'estensione ipython-sql\n",
    "%load_ext sql\n"
   ]
  },
  {
   "cell_type": "code",
   "execution_count": 5,
   "id": "44083055-d5f5-4518-833b-e21d62ed2b2d",
   "metadata": {},
   "outputs": [],
   "source": [
    "def scarica_e_salva_dati():\n",
    "    \"\"\"\n",
    "    Scarica i dati degli esopianeti confermati dal NASA Exoplanet Archive usando una query SQL\n",
    "    e li salva in un database SQLite.\n",
    "    \"\"\"\n",
    "    print(\"Scaricamento dei dati dal NASA Exoplanet Archive tramite SQL...\")\n",
    "    try:\n",
    "        query = \"\"\"\n",
    "        SELECT pl_name, pl_bmasse, pl_rade, pl_orbsmax, pl_eqt, st_spectype\n",
    "        FROM ps\n",
    "        WHERE pl_bmasse IS NOT NULL\n",
    "          AND pl_rade IS NOT NULL\n",
    "          AND pl_orbsmax IS NOT NULL\n",
    "          AND pl_eqt IS NOT NULL\n",
    "          AND st_spectype IS NOT NULL\n",
    "        \"\"\"\n",
    "        dati = NasaExoplanetArchive.query_criteria(query=query, table=\"ps\")\n",
    "        df = dati.to_pandas()\n",
    "        print(\"Download completato. Numero di esopianeti scaricati:\", len(df))\n",
    "        \n",
    "        # Salva i dati in un database SQLite\n",
    "        conn = sqlite3.connect('esopianeti.db')\n",
    "        df.to_sql('esopianeti', conn, if_exists='replace', index=False)\n",
    "        conn.close()\n",
    "        print(\"Dati salvati nel database SQLite 'esopianeti.db'.\")\n",
    "    except Exception as e:\n",
    "        print(\"Errore durante il download o il salvataggio dei dati:\", e)\n",
    "\n",
    "# Esegui la funzione per scaricare e salvare i dati\n",
    "# scarica_e_salva_dati()\n"
   ]
  },
  {
   "cell_type": "code",
   "execution_count": 6,
   "id": "780de876-b9db-4dad-bb98-b5aa055a8834",
   "metadata": {},
   "outputs": [],
   "source": [
    "# Connessione al database SQLite\n",
    "%sql sqlite:///esopianeti.db\n"
   ]
  },
  {
   "cell_type": "code",
   "execution_count": 7,
   "id": "64ffcd74-21db-4d31-9827-a1ae190dc03c",
   "metadata": {},
   "outputs": [
    {
     "name": "stdout",
     "output_type": "stream",
     "text": [
      " * sqlite:///esopianeti.db\n",
      "(sqlite3.OperationalError) no such table: esopianeti\n",
      "[SQL: -- Esempio: Seleziona i primi 5 esopianeti\n",
      "SELECT * FROM esopianeti LIMIT 5;]\n",
      "(Background on this error at: https://sqlalche.me/e/20/e3q8)\n"
     ]
    }
   ],
   "source": [
    "%%sql\n",
    "-- Esempio: Seleziona i primi 5 esopianeti\n",
    "SELECT * FROM esopianeti LIMIT 5;\n"
   ]
  },
  {
   "cell_type": "code",
   "execution_count": 8,
   "id": "8b09529f-f54c-4614-b2ad-2c0ae0c61bfd",
   "metadata": {},
   "outputs": [
    {
     "name": "stdout",
     "output_type": "stream",
     "text": [
      " * sqlite:///esopianeti.db\n",
      "(sqlite3.OperationalError) no such table: esopianeti\n",
      "[SQL: -- Esempio: Seleziona esopianeti con massa superiore a 10 masse terrestri\n",
      "SELECT pl_name, pl_bmasse, pl_rade\n",
      "FROM esopianeti\n",
      "WHERE pl_bmasse > 10;]\n",
      "(Background on this error at: https://sqlalche.me/e/20/e3q8)\n"
     ]
    }
   ],
   "source": [
    "%%sql\n",
    "-- Esempio: Seleziona esopianeti con massa superiore a 10 masse terrestri\n",
    "SELECT pl_name, pl_bmasse, pl_rade\n",
    "FROM esopianeti\n",
    "WHERE pl_bmasse > 10;\n"
   ]
  },
  {
   "cell_type": "code",
   "execution_count": 9,
   "id": "3e22e7b0-7da2-4054-a882-164d111b2e89",
   "metadata": {},
   "outputs": [
    {
     "ename": "DatabaseError",
     "evalue": "Execution failed on sql 'SELECT * FROM esopianeti': no such table: esopianeti",
     "output_type": "error",
     "traceback": [
      "\u001b[1;31m---------------------------------------------------------------------------\u001b[0m",
      "\u001b[1;31mOperationalError\u001b[0m                          Traceback (most recent call last)",
      "File \u001b[1;32m~\\AppData\\Local\\Programs\\Python\\Python312\\Lib\\site-packages\\pandas\\io\\sql.py:2674\u001b[0m, in \u001b[0;36mSQLiteDatabase.execute\u001b[1;34m(self, sql, params)\u001b[0m\n\u001b[0;32m   2673\u001b[0m \u001b[38;5;28;01mtry\u001b[39;00m:\n\u001b[1;32m-> 2674\u001b[0m     \u001b[43mcur\u001b[49m\u001b[38;5;241;43m.\u001b[39;49m\u001b[43mexecute\u001b[49m\u001b[43m(\u001b[49m\u001b[43msql\u001b[49m\u001b[43m,\u001b[49m\u001b[43m \u001b[49m\u001b[38;5;241;43m*\u001b[39;49m\u001b[43margs\u001b[49m\u001b[43m)\u001b[49m\n\u001b[0;32m   2675\u001b[0m     \u001b[38;5;28;01mreturn\u001b[39;00m cur\n",
      "\u001b[1;31mOperationalError\u001b[0m: no such table: esopianeti",
      "\nThe above exception was the direct cause of the following exception:\n",
      "\u001b[1;31mDatabaseError\u001b[0m                             Traceback (most recent call last)",
      "Cell \u001b[1;32mIn[9], line 5\u001b[0m\n\u001b[0;32m      2\u001b[0m conn \u001b[38;5;241m=\u001b[39m sqlite3\u001b[38;5;241m.\u001b[39mconnect(\u001b[38;5;124m'\u001b[39m\u001b[38;5;124mesopianeti.db\u001b[39m\u001b[38;5;124m'\u001b[39m)\n\u001b[0;32m      4\u001b[0m \u001b[38;5;66;03m# Esempio: Carica tutti i dati in un DataFrame\u001b[39;00m\n\u001b[1;32m----> 5\u001b[0m df_pulito \u001b[38;5;241m=\u001b[39m \u001b[43mpd\u001b[49m\u001b[38;5;241;43m.\u001b[39;49m\u001b[43mread_sql_query\u001b[49m\u001b[43m(\u001b[49m\u001b[38;5;124;43m\"\u001b[39;49m\u001b[38;5;124;43mSELECT * FROM esopianeti\u001b[39;49m\u001b[38;5;124;43m\"\u001b[39;49m\u001b[43m,\u001b[49m\u001b[43m \u001b[49m\u001b[43mconn\u001b[49m\u001b[43m)\u001b[49m\n\u001b[0;32m      6\u001b[0m conn\u001b[38;5;241m.\u001b[39mclose()\n\u001b[0;32m      8\u001b[0m \u001b[38;5;66;03m# Visualizza le prime 5 righe\u001b[39;00m\n",
      "File \u001b[1;32m~\\AppData\\Local\\Programs\\Python\\Python312\\Lib\\site-packages\\pandas\\io\\sql.py:526\u001b[0m, in \u001b[0;36mread_sql_query\u001b[1;34m(sql, con, index_col, coerce_float, params, parse_dates, chunksize, dtype, dtype_backend)\u001b[0m\n\u001b[0;32m    523\u001b[0m \u001b[38;5;28;01massert\u001b[39;00m dtype_backend \u001b[38;5;129;01mis\u001b[39;00m \u001b[38;5;129;01mnot\u001b[39;00m lib\u001b[38;5;241m.\u001b[39mno_default\n\u001b[0;32m    525\u001b[0m \u001b[38;5;28;01mwith\u001b[39;00m pandasSQL_builder(con) \u001b[38;5;28;01mas\u001b[39;00m pandas_sql:\n\u001b[1;32m--> 526\u001b[0m     \u001b[38;5;28;01mreturn\u001b[39;00m \u001b[43mpandas_sql\u001b[49m\u001b[38;5;241;43m.\u001b[39;49m\u001b[43mread_query\u001b[49m\u001b[43m(\u001b[49m\n\u001b[0;32m    527\u001b[0m \u001b[43m        \u001b[49m\u001b[43msql\u001b[49m\u001b[43m,\u001b[49m\n\u001b[0;32m    528\u001b[0m \u001b[43m        \u001b[49m\u001b[43mindex_col\u001b[49m\u001b[38;5;241;43m=\u001b[39;49m\u001b[43mindex_col\u001b[49m\u001b[43m,\u001b[49m\n\u001b[0;32m    529\u001b[0m \u001b[43m        \u001b[49m\u001b[43mparams\u001b[49m\u001b[38;5;241;43m=\u001b[39;49m\u001b[43mparams\u001b[49m\u001b[43m,\u001b[49m\n\u001b[0;32m    530\u001b[0m \u001b[43m        \u001b[49m\u001b[43mcoerce_float\u001b[49m\u001b[38;5;241;43m=\u001b[39;49m\u001b[43mcoerce_float\u001b[49m\u001b[43m,\u001b[49m\n\u001b[0;32m    531\u001b[0m \u001b[43m        \u001b[49m\u001b[43mparse_dates\u001b[49m\u001b[38;5;241;43m=\u001b[39;49m\u001b[43mparse_dates\u001b[49m\u001b[43m,\u001b[49m\n\u001b[0;32m    532\u001b[0m \u001b[43m        \u001b[49m\u001b[43mchunksize\u001b[49m\u001b[38;5;241;43m=\u001b[39;49m\u001b[43mchunksize\u001b[49m\u001b[43m,\u001b[49m\n\u001b[0;32m    533\u001b[0m \u001b[43m        \u001b[49m\u001b[43mdtype\u001b[49m\u001b[38;5;241;43m=\u001b[39;49m\u001b[43mdtype\u001b[49m\u001b[43m,\u001b[49m\n\u001b[0;32m    534\u001b[0m \u001b[43m        \u001b[49m\u001b[43mdtype_backend\u001b[49m\u001b[38;5;241;43m=\u001b[39;49m\u001b[43mdtype_backend\u001b[49m\u001b[43m,\u001b[49m\n\u001b[0;32m    535\u001b[0m \u001b[43m    \u001b[49m\u001b[43m)\u001b[49m\n",
      "File \u001b[1;32m~\\AppData\\Local\\Programs\\Python\\Python312\\Lib\\site-packages\\pandas\\io\\sql.py:2738\u001b[0m, in \u001b[0;36mSQLiteDatabase.read_query\u001b[1;34m(self, sql, index_col, coerce_float, parse_dates, params, chunksize, dtype, dtype_backend)\u001b[0m\n\u001b[0;32m   2727\u001b[0m \u001b[38;5;28;01mdef\u001b[39;00m\u001b[38;5;250m \u001b[39m\u001b[38;5;21mread_query\u001b[39m(\n\u001b[0;32m   2728\u001b[0m     \u001b[38;5;28mself\u001b[39m,\n\u001b[0;32m   2729\u001b[0m     sql,\n\u001b[1;32m   (...)\u001b[0m\n\u001b[0;32m   2736\u001b[0m     dtype_backend: DtypeBackend \u001b[38;5;241m|\u001b[39m Literal[\u001b[38;5;124m\"\u001b[39m\u001b[38;5;124mnumpy\u001b[39m\u001b[38;5;124m\"\u001b[39m] \u001b[38;5;241m=\u001b[39m \u001b[38;5;124m\"\u001b[39m\u001b[38;5;124mnumpy\u001b[39m\u001b[38;5;124m\"\u001b[39m,\n\u001b[0;32m   2737\u001b[0m ) \u001b[38;5;241m-\u001b[39m\u001b[38;5;241m>\u001b[39m DataFrame \u001b[38;5;241m|\u001b[39m Iterator[DataFrame]:\n\u001b[1;32m-> 2738\u001b[0m     cursor \u001b[38;5;241m=\u001b[39m \u001b[38;5;28;43mself\u001b[39;49m\u001b[38;5;241;43m.\u001b[39;49m\u001b[43mexecute\u001b[49m\u001b[43m(\u001b[49m\u001b[43msql\u001b[49m\u001b[43m,\u001b[49m\u001b[43m \u001b[49m\u001b[43mparams\u001b[49m\u001b[43m)\u001b[49m\n\u001b[0;32m   2739\u001b[0m     columns \u001b[38;5;241m=\u001b[39m [col_desc[\u001b[38;5;241m0\u001b[39m] \u001b[38;5;28;01mfor\u001b[39;00m col_desc \u001b[38;5;129;01min\u001b[39;00m cursor\u001b[38;5;241m.\u001b[39mdescription]\n\u001b[0;32m   2741\u001b[0m     \u001b[38;5;28;01mif\u001b[39;00m chunksize \u001b[38;5;129;01mis\u001b[39;00m \u001b[38;5;129;01mnot\u001b[39;00m \u001b[38;5;28;01mNone\u001b[39;00m:\n",
      "File \u001b[1;32m~\\AppData\\Local\\Programs\\Python\\Python312\\Lib\\site-packages\\pandas\\io\\sql.py:2686\u001b[0m, in \u001b[0;36mSQLiteDatabase.execute\u001b[1;34m(self, sql, params)\u001b[0m\n\u001b[0;32m   2683\u001b[0m     \u001b[38;5;28;01mraise\u001b[39;00m ex \u001b[38;5;28;01mfrom\u001b[39;00m\u001b[38;5;250m \u001b[39m\u001b[38;5;21;01minner_exc\u001b[39;00m\n\u001b[0;32m   2685\u001b[0m ex \u001b[38;5;241m=\u001b[39m DatabaseError(\u001b[38;5;124mf\u001b[39m\u001b[38;5;124m\"\u001b[39m\u001b[38;5;124mExecution failed on sql \u001b[39m\u001b[38;5;124m'\u001b[39m\u001b[38;5;132;01m{\u001b[39;00msql\u001b[38;5;132;01m}\u001b[39;00m\u001b[38;5;124m'\u001b[39m\u001b[38;5;124m: \u001b[39m\u001b[38;5;132;01m{\u001b[39;00mexc\u001b[38;5;132;01m}\u001b[39;00m\u001b[38;5;124m\"\u001b[39m)\n\u001b[1;32m-> 2686\u001b[0m \u001b[38;5;28;01mraise\u001b[39;00m ex \u001b[38;5;28;01mfrom\u001b[39;00m\u001b[38;5;250m \u001b[39m\u001b[38;5;21;01mexc\u001b[39;00m\n",
      "\u001b[1;31mDatabaseError\u001b[0m: Execution failed on sql 'SELECT * FROM esopianeti': no such table: esopianeti"
     ]
    }
   ],
   "source": [
    "# Connessione al database SQLite con pandas\n",
    "conn = sqlite3.connect('esopianeti.db')\n",
    "\n",
    "# Esempio: Carica tutti i dati in un DataFrame\n",
    "df_pulito = pd.read_sql_query(\"SELECT * FROM esopianeti\", conn)\n",
    "conn.close()\n",
    "\n",
    "# Visualizza le prime 5 righe\n",
    "df_pulito.head()\n"
   ]
  },
  {
   "cell_type": "code",
   "execution_count": null,
   "id": "bbd5e04b-f9a1-414d-804b-4e072a3dedcc",
   "metadata": {},
   "outputs": [],
   "source": [
    "def pulisci_dati(df):\n",
    "    \"\"\"\n",
    "    Pulisce e filtra il DataFrame per i campi di interesse.\n",
    "    \"\"\"\n",
    "    print(\"Inizio della pulizia e del filtraggio dei dati...\")\n",
    "    # Ad esempio, rimuovi esopianeti con temperature estremamente alte o basse\n",
    "    df_pulito = df[(df['pl_eqt'] > 200) & (df['pl_eqt'] < 3000)]\n",
    "    print(\"Dati puliti. Numero di esopianeti dopo il filtraggio:\", len(df_pulito))\n",
    "    return df_pulito\n",
    "\n",
    "# Pulisci i dati\n",
    "df_pulito = pulisci_dati(df_pulito)\n"
   ]
  },
  {
   "cell_type": "code",
   "execution_count": null,
   "id": "fc6175ca-d49f-47c1-95f6-4f8c28ee9cdc",
   "metadata": {},
   "outputs": [],
   "source": [
    "import matplotlib.pyplot as plt\n",
    "import seaborn as sns\n",
    "\n",
    "def plot_massa_vs_raggio(df):\n",
    "    \"\"\"\n",
    "    Crea un grafico scatter di Massa vs Raggio e calcola la correlazione.\n",
    "    \"\"\"\n",
    "    plt.figure(figsize=(10,6))\n",
    "    sns.scatterplot(data=df, x='pl_bmasse', y='pl_rade', alpha=0.6)\n",
    "    plt.title('Massa vs Raggio degli Esopianeti')\n",
    "    plt.xlabel('Massa (Massa Terra)')\n",
    "    plt.ylabel('Raggio (Raggio Terra)')\n",
    "    \n",
    "    # Calcolo della correlazione\n",
    "    correlazione = df['pl_bmasse'].corr(df['pl_rade'])\n",
    "    plt.annotate(f'Correlazione: {correlazione:.2f}', xy=(0.05, 0.95), xycoords='axes fraction',\n",
    "                 fontsize=12, ha='left', va='top')\n",
    "    plt.show()\n",
    "\n",
    "def plot_temp_vs_distanza(df):\n",
    "    \"\"\"\n",
    "    Crea un grafico scatter della Temperatura vs Distanza Orbitale.\n",
    "    \"\"\"\n",
    "    plt.figure(figsize=(10,6))\n",
    "    sns.scatterplot(data=df, x='pl_orbsmax', y='pl_eqt', alpha=0.6)\n",
    "    plt.title('Temperatura di Equilibrio vs Distanza Orbitale')\n",
    "    plt.xlabel('Distanza Orbitale (AU)')\n",
    "    plt.ylabel('Temperatura di Equilibrio (K)')\n",
    "    plt.show()\n",
    "\n",
    "# Esempio di utilizzo\n",
    "# plot_massa_vs_raggio(df_pulito)\n",
    "# plot_temp_vs_distanza(df_pulito)\n"
   ]
  },
  {
   "cell_type": "code",
   "execution_count": null,
   "id": "d343d22f-f8d0-4641-aa7c-c7283d7096d8",
   "metadata": {},
   "outputs": [],
   "source": [
    "def menu_interattivo_sql():\n",
    "    \"\"\"\n",
    "    Menu interattivo per pilotare l'analisi dei dati utilizzando SQL.\n",
    "    \"\"\"\n",
    "    conn = sqlite3.connect('esopianeti.db')\n",
    "    while True:\n",
    "        print(\"\\n=== Analisi del Catalogo di Esopianeti (Con SQL) ===\")\n",
    "        print(\"1. Visualizza i primi 5 record dei dati\")\n",
    "        print(\"2. Seleziona esopianeti con massa superiore a un valore\")\n",
    "        print(\"3. Grafico Massa vs Raggio\")\n",
    "        print(\"4. Grafico Temperatura vs Distanza Orbitale\")\n",
    "        print(\"5. Esci\")\n",
    "        \n",
    "        scelta = input(\"Inserisci il numero dell'operazione che desideri eseguire: \")\n",
    "        \n",
    "        if scelta == '1':\n",
    "            query = \"SELECT * FROM esopianeti LIMIT 5;\"\n",
    "            df = pd.read_sql_query(query, conn)\n",
    "            print(\"\\nPrime 5 righe del DataFrame pulito:\")\n",
    "            print(df)\n",
    "        elif scelta == '2':\n",
    "            valore = input(\"Inserisci il valore minimo della massa (Massa Terra): \")\n",
    "            try:\n",
    "                valore = float(valore)\n",
    "                query = f\"\"\"\n",
    "                SELECT pl_name, pl_bmasse, pl_rade\n",
    "                FROM esopianeti\n",
    "                WHERE pl_bmasse > {valore};\n",
    "                \"\"\"\n",
    "                df = pd.read_sql_query(query, conn)\n",
    "                print(f\"\\nEsopianeti con massa superiore a {valore} Masse Terra:\")\n",
    "                print(df)\n",
    "            except ValueError:\n",
    "                print(\"Valore inserito non valido. Inserisci un numero.\")\n",
    "        elif scelta == '3':\n",
    "            plot_massa_vs_raggio(df_pulito)\n",
    "        elif scelta == '4':\n",
    "            plot_temp_vs_distanza(df_pulito)\n",
    "        elif scelta == '5':\n",
    "            print(\"Uscita dal programma. Arrivederci!\")\n",
    "            break\n",
    "        else:\n",
    "            print(\"Scelta non valida. Riprova.\")\n",
    "    conn.close()\n",
    "\n",
    "# Avvia il menu interattivo\n",
    "# menu_interattivo_sql()\n"
   ]
  },
  {
   "cell_type": "code",
   "execution_count": null,
   "id": "de0cf3c0-3cd7-4f7e-9708-c07389b90aa3",
   "metadata": {},
   "outputs": [],
   "source": []
  }
 ],
 "metadata": {
  "kernelspec": {
   "display_name": "Python 3 (ipykernel)",
   "language": "python",
   "name": "python3"
  },
  "language_info": {
   "codemirror_mode": {
    "name": "ipython",
    "version": 3
   },
   "file_extension": ".py",
   "mimetype": "text/x-python",
   "name": "python",
   "nbconvert_exporter": "python",
   "pygments_lexer": "ipython3",
   "version": "3.12.4"
  }
 },
 "nbformat": 4,
 "nbformat_minor": 5
}
